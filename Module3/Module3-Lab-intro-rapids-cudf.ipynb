{
 "cells": [
  {
   "cell_type": "markdown",
   "metadata": {
    "id": "mqZbYiaZCy_a"
   },
   "source": [
    "# Introduction to RAPIDS"
   ]
  },
  {
   "cell_type": "markdown",
   "metadata": {
    "id": "p0Klrr0pCy_h"
   },
   "source": [
    "The RAPIDS data science framework is a GPU-empowered collection of libraries for executing end-to-end data science pipelines completely in the GPU. It is designed to make an effective use of the computational capabilities of GPUs with optimized NVIDIA CUDA® primitives and high-bandwidth GPU memory. The primary objective behind using RAPIDS is to accelerate individual parts of the typical data science workflow, and thereby accelerating the complete end-to-end workflow in Data Preparation and Machine Learning.\n",
    "\n",
    "Read through [this](https://medium.com/future-vision/what-is-rapids-ai-7e552d80a1d2) medium article to understand how RAPIDS works.\n",
    "<br><br>\n",
    "If you have already worked with pandas and numpy previously, most of the tutorial will seem very familiar to you. If you haven't, do not worry. This is a great place to start!"
   ]
  },
  {
   "cell_type": "markdown",
   "metadata": {
    "id": "aZo5lYSCCy_i"
   },
   "source": [
    "## SETUP\n",
    "\n",
    "**Note that pandas is a data analysis and manipulation tool built on top of the Python programming language to perform various tasks (e.g.: loading, joining, aggregating, filtering data). cuDF is a GPU DataFrame library that helps perform similar functionalities with massive acceleration.**"
   ]
  },
  {
   "cell_type": "code",
   "execution_count": null,
   "metadata": {
    "id": "JfAZwrZkCy_i"
   },
   "outputs": [],
   "source": [
    "import cudf\n",
    "import pandas as pd"
   ]
  },
  {
   "cell_type": "markdown",
   "metadata": {
    "id": "dwnruwrBCy_i"
   },
   "source": [
    "Before we dive in, please make sure to check out the official documentation [here](https://docs.rapids.ai/api) to get an overall idea. Additionally, refer to the [cheatsheet](https://rapids.ai/assets/files/cheatsheet.pdf) for a crisp and clear representation of the functionalities provided by RAPIDS."
   ]
  },
  {
   "cell_type": "markdown",
   "metadata": {
    "id": "tSJg2GVxCy_j"
   },
   "source": [
    "## SECTION 1: CUDF BASICS\n",
    "### cuDF DataFrame\n",
    "Firstly, we will understand creating dataframes in cuDF. You can build a dataframe in multiple ways as shown in the official documentation. Let us first initialize the dataframe object."
   ]
  },
  {
   "cell_type": "code",
   "execution_count": null,
   "metadata": {
    "id": "uCOcIoodCy_j"
   },
   "outputs": [],
   "source": [
    "gdf = cudf.DataFrame()"
   ]
  },
  {
   "cell_type": "markdown",
   "metadata": {
    "id": "fEmYtubICy_j"
   },
   "source": [
    "Now that we have a cudf.Dataframe object, we will build the dataframe with values. Let us explore adding values by defining them through their columns."
   ]
  },
  {
   "cell_type": "code",
   "execution_count": null,
   "metadata": {
    "id": "55WP4WuPCy_j",
    "outputId": "794f5767-619a-4a15-e542-071c9038a90e"
   },
   "outputs": [],
   "source": [
    "#creates a column named 'index' with the values 0, 1, 2, 3, 4\n",
    "gdf['index'] = [0, 1, 2, 3, 4]\n",
    "\n",
    "#creates a column named 'value' with the values 10, 20, 30, 40, 50\n",
    "gdf['value'] = [10, 20, 30, 40, 50]\n",
    "\n",
    "#displays the current cudf dataframe\n",
    "gdf"
   ]
  },
  {
   "cell_type": "markdown",
   "metadata": {
    "id": "X6wfBI0pCy_k"
   },
   "source": [
    "We can also build the dataframe with list of rows of the dataframe as tuples."
   ]
  },
  {
   "cell_type": "code",
   "execution_count": null,
   "metadata": {
    "id": "mMmPLmS6Cy_l",
    "outputId": "18d7aaa8-0ca8-4637-cbce-de454ad0df8c"
   },
   "outputs": [],
   "source": [
    "#the first parameter is the data and the second parameter is the name of the columns\n",
    "df = cudf.DataFrame([\n",
    "    (5, 60),\n",
    "    (6, 70),\n",
    "    (7, 80),\n",
    "],\n",
    "columns = ['index', 'value'])\n",
    "df"
   ]
  },
  {
   "cell_type": "markdown",
   "metadata": {
    "id": "sTVVjruqCy_n"
   },
   "source": [
    "## SECTION 2: CUDF using Netflix Movie Dataset\n",
    "Now that we have a basic understanding of how to work with a cuDF DataFrame, let us try to work with creating one from a dataset. We will be using the dataset from [here](https://www.kaggle.com/shivamb/netflix-shows) to get hands-on with cuDF.<br>"
   ]
  },
  {
   "cell_type": "markdown",
   "metadata": {
    "id": "3ErqRXQJCy_o"
   },
   "source": [
    "### Reading a CSV file\n",
    "Import the netfilx_titles.csv dataset into a cuDF dataframe."
   ]
  },
  {
   "cell_type": "code",
   "execution_count": null,
   "metadata": {
    "id": "QhCucStZCy_p"
   },
   "outputs": [],
   "source": [
    "gdf = cudf.read_csv('/shared-data/Apr20/data/Module3/netflix_titles.csv')"
   ]
  },
  {
   "cell_type": "markdown",
   "metadata": {
    "id": "BgnudjdvCy_p"
   },
   "source": [
    "### Converting a Pandas DataFrame\n",
    "Alternatively, you could also read the data using Pandas and convert the dataframe to support cuDF functionalities."
   ]
  },
  {
   "cell_type": "code",
   "execution_count": null,
   "metadata": {
    "id": "5ejU3b_xCy_p",
    "outputId": "78244d39-95c6-4396-e901-2eb71f1fe934"
   },
   "outputs": [],
   "source": [
    "#creates a pandas dataframe\n",
    "pdf = pd.read_csv('/shared-data/Apr20/data/Module3/netflix_titles.csv')\n",
    "\n",
    "#creates cudf dataframe from pandas dataframe\n",
    "gdf = cudf.DataFrame.from_pandas(pdf)\n",
    "\n",
    "#display dataframe\n",
    "gdf"
   ]
  },
  {
   "cell_type": "markdown",
   "metadata": {
    "id": "I-tRBs91Cy_q"
   },
   "source": [
    "Let us now delve into some questions on the dataset itself!"
   ]
  },
  {
   "cell_type": "markdown",
   "metadata": {
    "id": "Yb17yrd5Cy_q"
   },
   "source": [
    "### 1. Dropping columns\n",
    "__<span style=\"color:red\">Exercise1:</span>__: This dataset has a lot of missing values primarily in the columns director and cast. Therefore, we will drop these two columns from our dataframe.\n",
    "Drop Display gdf after dropping to verify that the columns have been dropped"
   ]
  },
  {
   "cell_type": "code",
   "execution_count": null,
   "metadata": {
    "id": "eEWN-MD2Cy_q"
   },
   "outputs": [],
   "source": []
  },
  {
   "cell_type": "markdown",
   "metadata": {
    "id": "RETmlpxsCy_q"
   },
   "source": [
    "### 2. Missing values\n",
    "__<span style=\"color:red\">Exercise2:</span>__: The dataset needs to be cleaned first. There are several NA values in the data that add no value, we can choose to drop these records. Create a clean dataframe with no NA values.\n",
    "Display gdf after dropping to verify that the NA values have been dropped"
   ]
  },
  {
   "cell_type": "code",
   "execution_count": null,
   "metadata": {
    "id": "P17Dqwy-Cy_q"
   },
   "outputs": [],
   "source": []
  },
  {
   "cell_type": "markdown",
   "metadata": {
    "id": "6mWVfta6Cy_r"
   },
   "source": [
    "### 3. Querying DataFrame\n",
    "__<span style=\"color:red\">Exercise3:</span>__: Find the shows that were released in the year 2011."
   ]
  },
  {
   "cell_type": "code",
   "execution_count": null,
   "metadata": {
    "id": "-H2ISxFKCy_r"
   },
   "outputs": [],
   "source": []
  },
  {
   "cell_type": "markdown",
   "metadata": {
    "id": "aid29OYOCy_r"
   },
   "source": [
    "### 4. Sort values\n",
    "__<span style=\"color:red\">Exercise4:</span>__: Sort the dataframe according to the year the record was released (latest first). Refer to sort_values function, which takes the target column name and the sorting mode"
   ]
  },
  {
   "cell_type": "code",
   "execution_count": null,
   "metadata": {
    "id": "GzX-Pp7cCy_r"
   },
   "outputs": [],
   "source": []
  },
  {
   "cell_type": "markdown",
   "metadata": {
    "id": "q34GS1W7Cy_s"
   },
   "source": [
    "### 5. GroupBy\n",
    "__<span style=\"color:red\">Exercise5:</span>__: Alternatively, you can also find the number of movies and shows using a GroupBy and size."
   ]
  },
  {
   "cell_type": "code",
   "execution_count": null,
   "metadata": {
    "id": "29pjDzC8Cy_v",
    "scrolled": true
   },
   "outputs": [],
   "source": []
  }
 ],
 "metadata": {
  "colab": {
   "name": "Module-1-Lab-intro-rapids-cudf.ipynb",
   "provenance": []
  },
  "kernelspec": {
   "display_name": "Python 3",
   "language": "python",
   "name": "python3"
  },
  "language_info": {
   "codemirror_mode": {
    "name": "ipython",
    "version": 3
   },
   "file_extension": ".py",
   "mimetype": "text/x-python",
   "name": "python",
   "nbconvert_exporter": "python",
   "pygments_lexer": "ipython3",
   "version": "3.7.6"
  }
 },
 "nbformat": 4,
 "nbformat_minor": 1
}
