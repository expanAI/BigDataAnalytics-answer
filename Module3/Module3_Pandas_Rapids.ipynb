{
 "cells": [
  {
   "cell_type": "markdown",
   "metadata": {
    "id": "VRlTbjIvSqHM"
   },
   "source": [
    "#### Q1. Read the five provided datasets\n",
    "\n",
    "Read the five provided datasets using `pandas.read_csv()` and save the data to `pandas.DataFrame` variables. Additionally, measure the time taken to read each dataset for later use.  You can use `time()` function to measure running time.\n",
    "datasets path are: \n",
    "\n",
    "/shared-data/Apr20/data/Module3/data0.csv\n",
    "\n",
    "/shared-data/Apr20/data/Module3/data1.csv\n",
    "\n",
    "/shared-data/Apr20/data/Module3/data2.csv\n",
    "\n",
    "/shared-data/Apr20/data/Module3/data3.csv\n",
    "\n",
    "/shared-data/Apr20/data/Module3/data4.csv"
   ]
  },
  {
   "cell_type": "code",
   "execution_count": null,
   "metadata": {
    "id": "ot1_FujnRjKf"
   },
   "outputs": [],
   "source": [
    "import pandas as pd\n",
    "from time import time\n",
    "\n",
    "# TODO: Read the five datasets using pd.read_csv()\n",
    "# get the start time\n",
    "\n",
    "\n",
    "# append running times of each dataset to pd_running_times\n"
   ]
  },
  {
   "cell_type": "markdown",
   "metadata": {
    "id": "g8ftUDOKTVC8"
   },
   "source": [
    "#### Q2. Read datasets with cuDF\n",
    "\n",
    "Read the five datasets with `cudf.read_csv()` function in `cuDF` library and save the data into `cudf.DataFrame` variables. Additionally, measure the time taken to read each dataset for later use.\n",
    "\n"
   ]
  },
  {
   "cell_type": "code",
   "execution_count": null,
   "metadata": {
    "id": "eaHo-5B5R0hx"
   },
   "outputs": [],
   "source": [
    "import cudf\n",
    "\n",
    "# TODO: Read the five datasets using cudf.read_csv()\n",
    "# get the start time\n",
    "\n",
    "# append running times of each dataset to cudf_running_times\n"
   ]
  },
  {
   "cell_type": "markdown",
   "metadata": {
    "id": "aXUNhqtPqqVK"
   },
   "source": [
    "#### Q3. Plot the values"
   ]
  },
  {
   "cell_type": "markdown",
   "metadata": {
    "id": "jyXfWQTS8pF0"
   },
   "source": [
    "Now that we have performed csv read with both pandas and cuML. Let us plot these values to see if we can find a trend!"
   ]
  },
  {
   "cell_type": "code",
   "execution_count": null,
   "metadata": {
    "id": "IDfUwZIR1yK-",
    "scrolled": true
   },
   "outputs": [],
   "source": [
    "import matplotlib.pyplot as plt\n",
    "\n",
    "X = [25000 , 63115, 200000, 300000, 1419554]\n",
    "#X is number of lines of data in each data{0, 1, 2, 3, 4}.csv file\n",
    "\n",
    "#TODO: Plot a simultaneous graph with values of running times to read data of both pandas and cudf, i.e., pd_running_times and cudf_running_times\n",
    "\n",
    "#X axis is the number of lines and Y axis has the time in milliseconds. Provide a legend to differentiate pd_running_times and cudf_running_times"
   ]
  }
 ],
 "metadata": {
  "accelerator": "GPU",
  "colab": {
   "collapsed_sections": [],
   "name": "Lab_25-instructions.ipynb",
   "provenance": []
  },
  "kernelspec": {
   "display_name": "Python 3",
   "language": "python",
   "name": "python3"
  },
  "language_info": {
   "codemirror_mode": {
    "name": "ipython",
    "version": 3
   },
   "file_extension": ".py",
   "mimetype": "text/x-python",
   "name": "python",
   "nbconvert_exporter": "python",
   "pygments_lexer": "ipython3",
   "version": "3.7.6"
  }
 },
 "nbformat": 4,
 "nbformat_minor": 1
}
